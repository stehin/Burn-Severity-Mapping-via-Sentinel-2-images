{
 "cells": [
  {
   "cell_type": "markdown",
   "id": "71dbb391",
   "metadata": {},
   "source": [
    "## Implementazione di un modello per la realizzazione di Burn Severity Map\n",
    "\n",
    "<b>Radars and Remote Sensing</b> a.a. 2022-23\n",
    "\n",
    "<b>Studente:</b> Stefano Hinic, stefano.hinic@student.univaq.it\n",
    "\n",
    "<b>Università degli Studi dell'Aquila</b>\n"
   ]
  },
  {
   "cell_type": "markdown",
   "id": "e87a5aae",
   "metadata": {},
   "source": [
    "## 0.1) Import delle librerie\n",
    "Import della librerie:\n",
    "<ol>\n",
    "  <li><b>ee</b>: Earth Engine Python API</li>\n",
    "  <li><b>geemap</b>: Package per analisi geospaziale e visualizzazine con Google Earth Engine (GEE)</li>\n",
    "</ol>"
   ]
  },
  {
   "cell_type": "code",
   "execution_count": null,
   "id": "a96765af",
   "metadata": {},
   "outputs": [],
   "source": [
    "import ee\n",
    "import geemap"
   ]
  },
  {
   "cell_type": "markdown",
   "id": "f04ee19b",
   "metadata": {},
   "source": [
    "## 0.2) Autenticazione\n",
    "Prima di utilizzare la libreria client Python di Earth Engine, è necessario autenticarsi e utilizzare le credenziali Google per inizializzare il client Python."
   ]
  },
  {
   "cell_type": "code",
   "execution_count": null,
   "id": "bc0d970f",
   "metadata": {},
   "outputs": [],
   "source": [
    "ee.Authenticate()"
   ]
  },
  {
   "cell_type": "markdown",
   "id": "f0b76c71",
   "metadata": {},
   "source": [
    "## 0.3) Inizializzazione\n",
    "Il passaggio di inizializzazione verifica che siano state create credenziali valide e popola la libreria client Python con i metodi supportati dal server back-end."
   ]
  },
  {
   "cell_type": "code",
   "execution_count": null,
   "id": "677d3c74",
   "metadata": {},
   "outputs": [],
   "source": [
    "ee.Initialize()"
   ]
  },
  {
   "cell_type": "markdown",
   "id": "4c5f4530",
   "metadata": {},
   "source": [
    "## 1) Selezionare l’Area of Interest (AOI)"
   ]
  },
  {
   "cell_type": "code",
   "execution_count": null,
   "id": "d1ce91b5",
   "metadata": {},
   "outputs": [],
   "source": [
    "#Definisco l'AOI attraverso le coordinate del poligono che racchiude l'area di studio\n",
    "AOI = ee.Geometry.Polygon(\n",
    "    [\n",
    "        [14.029885, 42.053813],\n",
    "        [13.996247, 42.047695],\n",
    "        [13.947505, 42.06248],\n",
    "        [13.898076, 42.101721],\n",
    "        [13.893271, 42.125152],\n",
    "        [13.93858, 42.144501],\n",
    "        [13.985263, 42.131263],\n",
    "        [14.029199, 42.077262],\n",
    "        [14.029885, 42.053813]\n",
    "    ])"
   ]
  },
  {
   "cell_type": "markdown",
   "id": "bfd8c901",
   "metadata": {},
   "source": [
    "## 2) Selezionare un time frame pre-incendio e post-incendio, per gli eventi del 2017 e del 2023\n"
   ]
  },
  {
   "cell_type": "code",
   "execution_count": null,
   "id": "dd595b29",
   "metadata": {},
   "outputs": [],
   "source": [
    "#Parametri pre-fire 2017\n",
    "start_prefire_2017 = ee.Date('2017-07-20')\n",
    "finish_prefire_2017 = ee.Date('2017-08-18')\n",
    "\n",
    "#Parametri post-fire 2017\n",
    "start_endfire_2017 = ee.Date('2017-09-02')\n",
    "finish_endfire_2017 = ee.Date('2017-09-30')\n",
    "\n",
    "#Parametri pre-fire 2023\n",
    "start_prefire_2023 = ee.Date('2023-07-01')\n",
    "finish_prefire_2023 = ee.Date('2023-07-24')\n",
    "\n",
    "#Parametri post-fire 2023\n",
    "start_endfire_2023 = ee.Date('2023-08-01')\n",
    "finish_endfire_2023 = ee.Date('2023-08-30')\n"
   ]
  },
  {
   "cell_type": "markdown",
   "id": "995524eb",
   "metadata": {},
   "source": [
    "## 3) Eseguire un filtraggio per ottenere granuli meno nuvolosi"
   ]
  },
  {
   "cell_type": "code",
   "execution_count": null,
   "id": "df9dba6d",
   "metadata": {},
   "outputs": [],
   "source": [
    "# 3 - Creo una ImageCollection con i dati di Sentinel 2 (S2) per pre-incendio e post-incendio 2017\n",
    "collection_prefire_2017 = ee.ImageCollection(\"COPERNICUS/S2_SR\") \\\n",
    ".filterDate(start_prefire_2017, finish_prefire_2017) \\\n",
    ".filterBounds(AOI) \\\n",
    ".filter(ee.Filter.lt('CLOUDY_PIXEL_PERCENTAGE',1)); \n",
    "#print(collection_prefire, 'Image Collection')\n",
    "\n",
    "collection_endfire_2017 = ee.ImageCollection(\"COPERNICUS/S2_SR\") \\\n",
    ".filterDate(start_endfire_2017, finish_endfire_2017) \\\n",
    ".filterBounds(AOI) \\\n",
    ".filter(ee.Filter.lt('CLOUDY_PIXEL_PERCENTAGE',1)); \n",
    "#print(collection_endfire, 'Image Collection')\n",
    "\n",
    "# 3 - Creo una ImageCollection con i dati di Sentinel 2 (S2) per pre-incendio e post-incendio 2023\n",
    "collection_prefire_2023 = ee.ImageCollection(\"COPERNICUS/S2_SR\") \\\n",
    ".filterDate(start_prefire_2023, finish_prefire_2023) \\\n",
    ".filterBounds(AOI) \\\n",
    ".filter(ee.Filter.lt('CLOUDY_PIXEL_PERCENTAGE',1)); \n",
    "#print(collection_prefire, 'Image Collection')\n",
    "\n",
    "collection_endfire_2023 = ee.ImageCollection(\"COPERNICUS/S2_SR\") \\\n",
    ".filterDate(start_endfire_2023, finish_endfire_2023) \\\n",
    ".filterBounds(AOI) \\\n",
    ".filter(ee.Filter.lt('CLOUDY_PIXEL_PERCENTAGE',1)); \n",
    "#print(collection_endfire, 'Image Collection')\n"
   ]
  },
  {
   "cell_type": "code",
   "execution_count": null,
   "id": "a2419433",
   "metadata": {},
   "outputs": [],
   "source": [
    "\"\"\"\n",
    "#debug\n",
    "print(len(collection_endfire_2023.getInfo()['features']))\n",
    "for immagine in collection_endfire_2023.getInfo()['features']:\n",
    "    print(immagine['id'], immagine['properties']['CLOUDY_PIXEL_PERCENTAGE'])\n",
    "#collection_endfire_2017.getInfo()['features'][0]['properties']['CLOUDY_PIXEL_PERCENTAGE']\n",
    "\"\"\""
   ]
  },
  {
   "cell_type": "markdown",
   "id": "1e9c8afd",
   "metadata": {},
   "source": [
    "## 4) Calolo di una statistica di tutti i passaggi (come mediana o media)"
   ]
  },
  {
   "cell_type": "code",
   "execution_count": null,
   "id": "e68b2fe7",
   "metadata": {},
   "outputs": [],
   "source": [
    "#Prendo la mediana delle variabili ImageCollection collection_prefire_20** e collection_endfire_20**. Essa rappresenta una \n",
    "#statistica di tutti i passaggi. Al termine di questa operazione ottengo le immagini image_prefire_20** e image_endfire_**\n",
    "#NB: avrei potuto anche prendere direttamente una sola immagine, non nuvolosa, senza passare per la statistica sei passaggi \n",
    "\n",
    "#Incendio 2017\n",
    "image_prefire_2017 = ee.Image(collection_prefire_2017.median())\n",
    "image_endfire_2017 = ee.Image(collection_endfire_2017.median())\n",
    "\n",
    "#Incendio 2023\n",
    "image_prefire_2023 = ee.Image(collection_prefire_2023.median())\n",
    "image_endfire_2023 = ee.Image(collection_endfire_2023.median())"
   ]
  },
  {
   "cell_type": "markdown",
   "id": "fa57193e",
   "metadata": {},
   "source": [
    "## 5) Calcolare il NBR pre-incendio e post-incendio per gli eventi del 2017 e del 2023\n"
   ]
  },
  {
   "cell_type": "code",
   "execution_count": null,
   "id": "822f5da3",
   "metadata": {},
   "outputs": [],
   "source": [
    "#Calcolo del Normalized Burn Ratio (NBR) pre e post incendio 2017\n",
    "preNBR_2017 = image_prefire_2017.normalizedDifference(['B8', 'B12'])\n",
    "endNBR_2017 = image_endfire_2017.normalizedDifference(['B8', 'B12'])\n",
    "\n",
    "#Calcolo del Normalized Burn Ratio (NBR) pre e post incendio 2023\n",
    "preNBR_2023 = image_prefire_2023.normalizedDifference(['B8', 'B12'])\n",
    "endNBR_2023 = image_endfire_2023.normalizedDifference(['B8', 'B12'])"
   ]
  },
  {
   "cell_type": "markdown",
   "id": "03f813ea",
   "metadata": {},
   "source": [
    "## 6) Calcolare il dNBR per gli eventi del 2017 e del 2023, e per il periodo intercorso tra i due incendi"
   ]
  },
  {
   "cell_type": "code",
   "execution_count": null,
   "id": "a6654a64",
   "metadata": {},
   "outputs": [],
   "source": [
    "#Calcolo il differenced NBR (dNBR) per l'incendio del 2017\n",
    "#dNBR = PrefireNBR - EndfireNBR\n",
    "dNBR_unscaled_2017 = preNBR_2017.subtract(endNBR_2017)\n",
    "#Lo scalo per poi riferirmi agli standard USGS\n",
    "dNBR_2017 = dNBR_unscaled_2017.multiply(1000)\n",
    "\n",
    "#Calcolo il differenced NBR (dNBR) per l'incendio del 2023\n",
    "#dNBR = PrefireNBR - EndfireNBR\n",
    "dNBR_unscaled_2023 = preNBR_2023.subtract(endNBR_2023)\n",
    "#Lo scalo per poi riferirmi agli standard USGS\n",
    "dNBR_2023 = dNBR_unscaled_2023.multiply(1000)\n",
    "\n",
    "#Calcolo il differenced NBR (dNBR) per il periodo tra i due incendi\n",
    "#dNBR = endfireNBR_2017 - prefireNBR2023\n",
    "dNBR_unscaled_between = endNBR_2017.subtract(preNBR_2023)\n",
    "#Lo scalo per poi riferirmi agli standard USGS\n",
    "dNBR_between = dNBR_unscaled_between.multiply(1000)\n"
   ]
  },
  {
   "cell_type": "markdown",
   "id": "96160fd2",
   "metadata": {},
   "source": [
    "## 7) Classificare i dNBR in classi di severità, con riferimento allo standard USGS"
   ]
  },
  {
   "cell_type": "code",
   "execution_count": null,
   "id": "20e19b6b",
   "metadata": {},
   "outputs": [],
   "source": [
    "#Definisco un SLD style composto da intervalli discreti da applicare all'immagine, in modo da utilizzare lo standard USGS\n",
    "sld_intervals = '<RasterSymbolizer>' + \\\n",
    "    '<ColorMap type=\"intervals\" extended=\"False\" >' + \\\n",
    "      '<ColorMapEntry color=\"#ffffff\" quantity=\"-1000\" label=\"NA\"/>' + \\\n",
    "      '<ColorMapEntry color=\"#7a8737\" quantity=\"-250\" label=\"Enhanced Regrowth, High\" />' + \\\n",
    "      '<ColorMapEntry color=\"#acbe4d\" quantity=\"-100\" label=\"Enhanced Regrowth, Low\" />' + \\\n",
    "      '<ColorMapEntry color=\"#0ae042\" quantity=\"100\" label=\"Unburned\" />' + \\\n",
    "      '<ColorMapEntry color=\"#fff70b\" quantity=\"270\" label=\"Low Severity\" />' + \\\n",
    "      '<ColorMapEntry color=\"#ffaf38\" quantity=\"440\" label=\"Moderate-low Severity\" />' + \\\n",
    "      '<ColorMapEntry color=\"#ff641b\" quantity=\"660\" label=\"Moderate-high Severity\" />' + \\\n",
    "      '<ColorMapEntry color=\"#a41fd6\" quantity=\"1300\" label=\"High Severity\" />' + \\\n",
    "    '</ColorMap>' + \\\n",
    "  '</RasterSymbolizer>'"
   ]
  },
  {
   "cell_type": "markdown",
   "id": "1cd95e75",
   "metadata": {},
   "source": [
    "## 8) Plottare ed analizzare i risultati ottenuti"
   ]
  },
  {
   "cell_type": "markdown",
   "id": "b8f0fbdb",
   "metadata": {},
   "source": [
    "## 8.1) Creazione e plot di una mappa interattiva, centrata sull'AOI, con lo zoom selezionato"
   ]
  },
  {
   "cell_type": "code",
   "execution_count": null,
   "id": "44c9bb19",
   "metadata": {},
   "outputs": [],
   "source": [
    "centro=[42.08853000000005,13.922270000000026]\n",
    "mappa1=geemap.Map(center=centro, zoom=12)\n",
    "mappa1.add_basemap(\"Satellite\")\n",
    "mappa1"
   ]
  },
  {
   "cell_type": "markdown",
   "id": "671f8284",
   "metadata": {},
   "source": [
    "## 8.2) Plot della statistica di tutti i passaggi, pre e post incendio, sia del 2017 che del 2023"
   ]
  },
  {
   "cell_type": "code",
   "execution_count": null,
   "id": "f4657d27",
   "metadata": {},
   "outputs": [],
   "source": [
    "s2rgb = {\n",
    "'min': 0,\n",
    "'max': 2500,\n",
    "'gamma': 0.89,\n",
    "'bands': ['B4', 'B3', 'B2']}\n",
    "\n",
    "mappa1.addLayer(image_prefire_2017.clip(AOI), s2rgb, \"Immagine prima dell'incendio 2017\" )\n",
    "mappa1.addLayer(image_endfire_2017, s2rgb, \"Immagine dopo l'incendio 2017\")\n",
    "mappa1.addLayer(image_prefire_2023, s2rgb, \"Immagine prima dell'incendio 2023\" )\n",
    "mappa1.addLayer(image_endfire_2023, s2rgb, \"Immagine dopo l'incendio 2023\")\n",
    "mappa1"
   ]
  },
  {
   "cell_type": "markdown",
   "id": "548d4802",
   "metadata": {},
   "source": [
    "## 8.3a) Plot dell'immagine meno nuvolosa, pre e post incendio, sia del 2017 che del 2023"
   ]
  },
  {
   "cell_type": "code",
   "execution_count": null,
   "id": "039c6c55",
   "metadata": {},
   "outputs": [],
   "source": [
    "#Acquisizione dell'immagine con la proprietà \"CLOUDY_PIXEL_PERCENTAGE\" minore, pre e post incendio, sia del 2017 che del 2023\n",
    "single_image_prefire_2017=collection_prefire_2017.getInfo()['features'][0]\n",
    "single_image_endfire_2017=collection_endfire_2017.getInfo()['features'][1]\n",
    "single_image_prefire_2023=collection_prefire_2023.getInfo()['features'][0]\n",
    "single_image_endfire_2023=collection_endfire_2023.getInfo()['features'][0]\n",
    "data_prefire_2017=\"\"\n",
    "data_endfire_2017=\"\"\n",
    "data_prefire_2023=\"\"\n",
    "data_endfire_2023=\"\"\n",
    "#Incendio 2017\n",
    "for immagine in collection_prefire_2017.getInfo()['features']:\n",
    "    if (immagine['id'][-2:-1]!=\"U\" and immagine['properties']['CLOUDY_PIXEL_PERCENTAGE']<single_image_prefire_2017['properties']['CLOUDY_PIXEL_PERCENTAGE']):\n",
    "        single_image_prefire_2017=immagine\n",
    "    data=single_image_prefire_2017[\"id\"].split(\"/\")[2][:8]\n",
    "    anno=data[:4]\n",
    "    mese=data[4:6]\n",
    "    giorno=data[6:8]\n",
    "    data_prefire_2017=giorno+\"/\"+mese+\"/\"+anno\n",
    "\n",
    "for immagine in collection_endfire_2017.getInfo()['features']:\n",
    "    if (immagine['id'][-2:-1]!=\"U\" and immagine['properties']['CLOUDY_PIXEL_PERCENTAGE']<single_image_endfire_2017['properties']['CLOUDY_PIXEL_PERCENTAGE']):\n",
    "        single_image_endfire_2017=immagine\n",
    "    data=single_image_endfire_2017[\"id\"].split(\"/\")[2][:8]\n",
    "    anno=data[:4]\n",
    "    mese=data[4:6]\n",
    "    giorno=data[6:8]\n",
    "    data_endfire_2017=giorno+\"/\"+mese+\"/\"+anno\n",
    "\n",
    "#Incendio 2023\n",
    "for immagine in collection_prefire_2023.getInfo()['features']:\n",
    "    if (immagine['id'][-2:-1]!=\"U\" and immagine['properties']['CLOUDY_PIXEL_PERCENTAGE']<single_image_prefire_2023['properties']['CLOUDY_PIXEL_PERCENTAGE']):\n",
    "        single_image_prefire_2023=immagine\n",
    "    data=single_image_prefire_2023[\"id\"].split(\"/\")[2][:8]\n",
    "    anno=data[:4]\n",
    "    mese=data[4:6]\n",
    "    giorno=data[6:8]\n",
    "    data_prefire_2023=giorno+\"/\"+mese+\"/\"+anno\n",
    "\n",
    "\n",
    "for immagine in collection_endfire_2023.getInfo()['features']:\n",
    "    if (immagine['id'][-2:-1]!=\"U\" and immagine['properties']['CLOUDY_PIXEL_PERCENTAGE']<single_image_endfire_2023['properties']['CLOUDY_PIXEL_PERCENTAGE']):\n",
    "        single_image_endfire_2023=immagine\n",
    "    data=single_image_endfire_2023[\"id\"].split(\"/\")[2][:8]\n",
    "    anno=data[:4]\n",
    "    mese=data[4:6]\n",
    "    giorno=data[6:8]\n",
    "    data_endfire_2023=giorno+\"/\"+mese+\"/\"+anno\n",
    "    \n",
    "#Creo le immagini con 'CLOUDY_PIXEL_PERCENTAGE' minore, sfruttando l'id\n",
    "single_image_prefire_2017=ee.Image(single_image_prefire_2017['id'])\n",
    "single_image_endfire_2017=ee.Image(single_image_endfire_2017['id'])\n",
    "single_image_prefire_2023=ee.Image(single_image_prefire_2023['id'])\n",
    "single_image_endfire_2023=ee.Image(single_image_endfire_2023['id'])\n",
    "\n",
    "#Definisco una nuova mappa interattiva e plotto le immagini\n",
    "mappa2=geemap.Map(center=centro, zoom=12)\n",
    "mappa2.add_basemap(\"Satellite\")\n",
    "mappa2.addLayer(single_image_prefire_2017, s2rgb, \"Immagine prima dell'incendio. Data: \" + data_prefire_2017)\n",
    "mappa2.addLayer(single_image_endfire_2017, s2rgb, \"Immagine dopo l'incendio. Data: \" + data_endfire_2017)\n",
    "mappa2.addLayer(single_image_prefire_2023, s2rgb, \"Immagine prima dell'incendio. Data: \" + data_prefire_2023)\n",
    "mappa2.addLayer(single_image_endfire_2023, s2rgb, \"Immagine dopo l'incendio. Data: \" + data_endfire_2023)\n",
    "mappa2"
   ]
  },
  {
   "cell_type": "markdown",
   "id": "9b728dac",
   "metadata": {},
   "source": [
    "## 8.3b) Confronto immagini RGB pre e post-incendio del 2017"
   ]
  },
  {
   "cell_type": "code",
   "execution_count": null,
   "id": "68bf639e",
   "metadata": {},
   "outputs": [],
   "source": [
    "mappa2b = geemap.Map()\n",
    "mappa2b.addLayer\n",
    "mappa2b.addLayer\n",
    "left_layer = geemap.ee_tile_layer(single_image_prefire_2017, s2rgb, \"Immagine prima dell'incendio. Data: \" + data_prefire_2017)\n",
    "right_layer = geemap.ee_tile_layer(single_image_endfire_2017, s2rgb, \"Immagine dopo l'incendio. Data: \" + data_endfire_2017)\n",
    "\n",
    "mappa2b = geemap.Map(center=centro, zoom=13)\n",
    "mappa2b.split_map(left_layer, right_layer)\n",
    "mappa2b"
   ]
  },
  {
   "cell_type": "markdown",
   "id": "e5653f61",
   "metadata": {},
   "source": [
    "## 8.4) Plot dell'NBR pre e post incendio, sia del 2017 che del 2023"
   ]
  },
  {
   "cell_type": "code",
   "execution_count": null,
   "id": "ff3e2afd",
   "metadata": {},
   "outputs": [],
   "source": [
    "#Definisco una nuova mappa interattiva e plotto le immagini\n",
    "mappa3=geemap.Map(center=centro, zoom=12)\n",
    "mappa3.add_basemap(\"Satellite\")\n",
    "grey = ['white', 'black']\n",
    "mappa3.addLayer(preNBR_2017.clip(AOI), {'min': -1, 'max': 1, 'palette': grey}, 'Prefire 2017 NBR')\n",
    "mappa3.addLayer(endNBR_2017.clip(AOI), {'min': -1, 'max': 1, 'palette': grey}, 'Postfire 2017 NBR')\n",
    "mappa3.addLayer(preNBR_2023.clip(AOI), {'min': -1, 'max': 1, 'palette': grey}, 'Prefire 2023 NBR')\n",
    "mappa3.addLayer(endNBR_2023.clip(AOI), {'min': -1, 'max': 1, 'palette': grey}, 'Postfire 2023NBR')\n",
    "mappa3"
   ]
  },
  {
   "cell_type": "markdown",
   "id": "af2b2b39",
   "metadata": {},
   "source": [
    "## 8.5) Plot del dNBR per gli incendi del 2017 e del 2023, e per il periodo intercorso"
   ]
  },
  {
   "cell_type": "code",
   "execution_count": null,
   "id": "9aaee103",
   "metadata": {},
   "outputs": [],
   "source": [
    "#Definisco una nuova mappa interattiva e plotto le immagini\n",
    "mappa4=geemap.Map(center=centro, zoom=12)\n",
    "mappa4.add_basemap(\"Satellite\")\n",
    "grey = ['white', 'black']\n",
    "mappa4.addLayer(dNBR_2017.clip(AOI), {'min': -1000, 'max': 1000, 'palette': grey}, 'dNBR 2017 B&W', 0)\n",
    "mappa4.addLayer(dNBR_2023.clip(AOI), {'min': -1000, 'max': 1000, 'palette': grey}, 'NBR 2023 B&W', 0)\n",
    "mappa4.addLayer(dNBR_between.clip(AOI), {'min': -1000, 'max': 1000, 'palette': grey}, 'dNBR tra gli incendi B&W', 0)\n",
    "mappa4"
   ]
  },
  {
   "cell_type": "markdown",
   "id": "fe2c66fb",
   "metadata": {},
   "source": [
    "## 8.6) Plot del dNBR per gli incendi del 2017 e del 2023, e per il periodo intercorso, classificati secondo lo standard USGS"
   ]
  },
  {
   "cell_type": "code",
   "execution_count": null,
   "id": "5e3f7a19",
   "metadata": {},
   "outputs": [],
   "source": [
    "#Definisco la legenda secondo gli standard USGS\n",
    "legend_dict = {\n",
    "    \"Enhanced Regrowth, High\": \"7a8737\",\n",
    "    \"Enhanced Regrowth, Low\": \"acbe4d\",\n",
    "    \"Unburned\": \"0ae042\",\n",
    "    \"Low Severity\": \"fff70b\",\n",
    "    \"Moderate-low Severity\": \"ffaf38\",\n",
    "    \"Moderate-high Severity\": \"ff641b\",\n",
    "    \"High Severity\": \"a41fd6\",\n",
    "    \"NA\": \"ffffff\",\n",
    "}\n",
    "\n",
    "geemap.create_legend(\n",
    "    title='dNBR standard USGS',\n",
    "    legend_dict=legend_dict,\n",
    "    draggable=False,\n",
    "    output='dNBR_USGS_legend.html',\n",
    ")\n",
    "style = {\n",
    "    'position': 'fixed',\n",
    "    'z-index': '9999',\n",
    "    'border': '2px solid grey',\n",
    "    'background-color': 'rgba(255, 255, 255, 0.8)',\n",
    "    'border-radius': '10px',\n",
    "    'padding': '5px',\n",
    "    'font-size': '14px',\n",
    "    'bottom': '20px',\n",
    "    'right': '5px',\n",
    "}\n",
    "\n",
    "#Definisco una nuova mappa interattiva, plotto le immagini e aggiungo la legenda\n",
    "mappa5=geemap.Map(center=centro, zoom=12)\n",
    "mappa5.add_basemap(\"Satellite\")\n",
    "#Aggiungo l'immagine come layer caratterizzata dai valori di dNBR classificati secondo lo standard USGS, per l'evento del 2017\n",
    "mappa5.addLayer(dNBR_2017.sldStyle(sld_intervals).clip(AOI), {}, \"dNBR  2017 classificato\")\n",
    "#Aggiungo l'immagine come layer caratterizzata dai valori di dNBR classificati secondo lo standard USGS, per l'evento del 2023\n",
    "mappa5.addLayer(dNBR_2023.sldStyle(sld_intervals).clip(AOI), {}, \"dNBR  2023 classificato\")\n",
    "#Aggiungo l'immagine come layer caratterizzata dai valori di dNBR classificati secondo lo standard USGS, tra i due eventi\n",
    "mappa5.addLayer(dNBR_between.sldStyle(sld_intervals).clip(AOI), {}, \"dNBR  between classificato\")\n",
    "#Aggiungo la legenda\n",
    "mappa5.add_legend(\n",
    "    title='dNBR standard USGS', legend_dict=legend_dict, draggable=False, style=style\n",
    ")\n",
    "mappa5"
   ]
  },
  {
   "cell_type": "markdown",
   "id": "2804e39f",
   "metadata": {},
   "source": [
    "## Oss: Anche lievi cambiamenti nella vegetazione possono essere rilevati come bruciature \"Low Severity\", motivo per cui questa classe deve essere trattata con particolare attenzione."
   ]
  },
  {
   "cell_type": "markdown",
   "id": "145c83ce",
   "metadata": {},
   "source": [
    "## 8.7) Confronto dei dNBR per gli incendi del 2017 e del 2023"
   ]
  },
  {
   "cell_type": "code",
   "execution_count": null,
   "id": "6aa376ed",
   "metadata": {},
   "outputs": [],
   "source": [
    "#Definisco il layer sulla sx della sbarra verticale e quello sulla dx\n",
    "left_layer = geemap.ee_tile_layer(dNBR_2023.sldStyle(sld_intervals).clip(AOI), {}, \"dNBR 2023 classificato USGS\")\n",
    "right_layer = geemap.ee_tile_layer(dNBR_2017.sldStyle(sld_intervals).clip(AOI), {}, \"dNBR 2017 classificato USGS\")\n",
    "\n",
    "#Definisco una nuova mappa interattiva, plotto le immagini e aggiungo la legenda\n",
    "mappa6 = geemap.Map(center=centro, zoom=12)\n",
    "mappa6.split_map(left_layer, right_layer)\n",
    "mappa6.add_legend(\n",
    "    title='dNBR standard USGS', legend_dict=legend_dict, draggable=False, style=style\n",
    ")\n",
    "mappa6"
   ]
  },
  {
   "cell_type": "markdown",
   "id": "42538072",
   "metadata": {},
   "source": [
    "## 8.8) Calcolo e plot del dNBR classificato secondo lo standard USGS, nel periodo dell'incendio del 2017, considerando come AOI la Piana del Fucino"
   ]
  },
  {
   "cell_type": "code",
   "execution_count": null,
   "id": "5d26de37",
   "metadata": {},
   "outputs": [],
   "source": [
    "#Definisco l'AOI attraverso le coordinate del poligono che racchiude l'area di studio\n",
    "AOI_fucino = ee.Geometry.Polygon(\n",
    "    [[13.504274, 42.061546],\n",
    "    [13.452099, 42.036051],\n",
    "    [13.432877, 41.990136],\n",
    "    [13.485052, 41.955422],\n",
    "    [13.533107, 41.95338],\n",
    "    [13.627845, 41.944187],\n",
    "    [13.659424, 41.966655],\n",
    "    [13.619607, 42.007486],\n",
    "    [13.564686, 42.051349],\n",
    "    [13.504274, 42.061546]])\n",
    "\n",
    "#Creo una ImageCollection con i dati di Sentinel 2 (S2) per pre-incendio e post-incendio 2017\n",
    "collection_prefire_2017_fucino = ee.ImageCollection(\"COPERNICUS/S2_SR\") \\\n",
    ".filterDate(start_prefire_2023, finish_prefire_2023) \\\n",
    ".filterBounds(AOI_fucino) \\\n",
    ".filter(ee.Filter.lt('CLOUDY_PIXEL_PERCENTAGE',1)); \n",
    "\n",
    "\n",
    "collection_endfire_2017_fucino = ee.ImageCollection(\"COPERNICUS/S2_SR\") \\\n",
    ".filterDate(start_endfire_2023, finish_endfire_2023) \\\n",
    ".filterBounds(AOI_fucino) \\\n",
    ".filter(ee.Filter.lt('CLOUDY_PIXEL_PERCENTAGE',1)); \n",
    "\n",
    "#Prendo la mediana delle variabili ImageCollection. Essa rappresenta una statistica di tutti i passaggi. \n",
    "#Al termine di questa operazione ottengo le immagini image_prefire_2017_fucino e image_endfire_fucino\n",
    "#NB: avrei potuto anche prendere direttamente una sola immagine, non nuvolosa, senza passare per la statistica dei passaggi \n",
    "\n",
    "#Incendio 2017\n",
    "image_prefire_2017_fucino = ee.Image(collection_prefire_2017_fucino.median())\n",
    "image_endfire_2017_fucino = ee.Image(collection_endfire_2017_fucino.median())\n",
    "\n",
    "#Calcolo del Normalized Burn Ratio (NBR) pre e post incendio 2017\n",
    "preNBR_2017_fucino = image_prefire_2017_fucino.normalizedDifference(['B8', 'B12'])\n",
    "endNBR_2017_fucino = image_endfire_2017_fucino.normalizedDifference(['B8', 'B12'])\n",
    "\n",
    "#Calcolo il differenced NBR (dNBR) per l'incendio del 2017\n",
    "#dNBR = PrefireNBR - EndfireNBR\n",
    "dNBR_unscaled_2017_fucino = preNBR_2017_fucino.subtract(endNBR_2017_fucino)\n",
    "#Lo scalo per poi riferirmi agli standard USGS\n",
    "dNBR_2017_fucino = dNBR_unscaled_2017_fucino.multiply(1000)\n",
    "\n",
    "#Definisco una nuova mappa interattiva, plotto le immagini e aggiungo la legenda\n",
    "centro_fucino=[41.999117, 13.539972]\n",
    "mappa7 = geemap.Map(center=centro_fucino, zoom=13)\n",
    "#Aggiungo l'immagine come layer caratterizzata dai valori di dNBR classificati secondo lo standard USGS, nel periodo \n",
    "#dell'evento del Morrone del 2017, ma calcolato per l'AOI della Piana del Fucino \n",
    "mappa7.addLayer(dNBR_2017_fucino.sldStyle(sld_intervals).clip(AOI_fucino), {}, \"dNBR classificato Piana del Fucino 2017\")\n",
    "mappa7.add_legend(\n",
    "    title='dNBR standard USGS', legend_dict=legend_dict, draggable=False, style=style\n",
    ")\n",
    "mappa7"
   ]
  }
 ],
 "metadata": {
  "kernelspec": {
   "display_name": "Python 3 (ipykernel)",
   "language": "python",
   "name": "python3"
  },
  "language_info": {
   "codemirror_mode": {
    "name": "ipython",
    "version": 3
   },
   "file_extension": ".py",
   "mimetype": "text/x-python",
   "name": "python",
   "nbconvert_exporter": "python",
   "pygments_lexer": "ipython3",
   "version": "3.10.13"
  }
 },
 "nbformat": 4,
 "nbformat_minor": 5
}
